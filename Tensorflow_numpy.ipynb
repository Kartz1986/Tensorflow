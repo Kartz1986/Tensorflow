{
 "cells": [
  {
   "cell_type": "code",
   "execution_count": 2,
   "id": "216ead46",
   "metadata": {},
   "outputs": [],
   "source": [
    "import numpy as np"
   ]
  },
  {
   "cell_type": "markdown",
   "id": "aa3f7ce6",
   "metadata": {},
   "source": [
    "# Create an Array using Numpy\n",
    "\n",
    "#### Type cast list to array"
   ]
  },
  {
   "cell_type": "code",
   "execution_count": 4,
   "id": "54bf6323",
   "metadata": {},
   "outputs": [
    {
     "data": {
      "text/plain": [
       "array([1, 2, 3])"
      ]
     },
     "execution_count": 4,
     "metadata": {},
     "output_type": "execute_result"
    }
   ],
   "source": [
    "#type cast list to array\n",
    "mylist = [1,2,3]\n",
    "np.array(mylist)"
   ]
  },
  {
   "cell_type": "markdown",
   "id": "eb7a31b6",
   "metadata": {},
   "source": [
    "#### typecasting 2D Array"
   ]
  },
  {
   "cell_type": "code",
   "execution_count": 5,
   "id": "e531abaf",
   "metadata": {},
   "outputs": [
    {
     "data": {
      "text/plain": [
       "array([[1, 2],\n",
       "       [3, 4],\n",
       "       [5, 6]])"
      ]
     },
     "execution_count": 5,
     "metadata": {},
     "output_type": "execute_result"
    }
   ],
   "source": [
    "nested_list = [[1,2],[3,4],[5,6]]\n",
    "nested_list\n",
    "np.array(nested_list)"
   ]
  },
  {
   "cell_type": "markdown",
   "id": "eacd5658",
   "metadata": {},
   "source": [
    "#### using np.arange\n",
    "\n",
    "np.arange function creates the array with 2 Parameters\n",
    "\n",
    "*Start - Start of the value\n",
    "\n",
    "*Stop - end value doesnt include it \n",
    "\n",
    "*Step - incremental incase if any"
   ]
  },
  {
   "cell_type": "code",
   "execution_count": 6,
   "id": "d321e920",
   "metadata": {},
   "outputs": [
    {
     "data": {
      "text/plain": [
       "array([0, 1, 2, 3, 4, 5, 6, 7, 8, 9])"
      ]
     },
     "execution_count": 6,
     "metadata": {},
     "output_type": "execute_result"
    }
   ],
   "source": [
    "np.arange(0,10)  #Start and stop value"
   ]
  },
  {
   "cell_type": "code",
   "execution_count": 7,
   "id": "877fbc54",
   "metadata": {},
   "outputs": [
    {
     "data": {
      "text/plain": [
       "array([ 0,  5, 10, 15, 20, 25, 30, 35, 40, 45, 50, 55, 60, 65, 70, 75, 80,\n",
       "       85, 90, 95])"
      ]
     },
     "execution_count": 7,
     "metadata": {},
     "output_type": "execute_result"
    }
   ],
   "source": [
    "np.arange(0,100,5) #Start and stop with step value"
   ]
  },
  {
   "cell_type": "markdown",
   "id": "aa347d70",
   "metadata": {},
   "source": [
    "#### Creating matrices/arrays with either Zeros or ones\n",
    "\n",
    "By default numpy arrays are created as floating point arrays but can be converted to integer using dtype argument"
   ]
  },
  {
   "cell_type": "code",
   "execution_count": 8,
   "id": "e7f5436f",
   "metadata": {},
   "outputs": [
    {
     "data": {
      "text/plain": [
       "array([0., 0., 0.])"
      ]
     },
     "execution_count": 8,
     "metadata": {},
     "output_type": "execute_result"
    }
   ],
   "source": [
    "np.zeros(3)"
   ]
  },
  {
   "cell_type": "code",
   "execution_count": 9,
   "id": "2645d41c",
   "metadata": {},
   "outputs": [
    {
     "data": {
      "text/plain": [
       "array([[0, 0, 0, 0, 0, 0, 0, 0, 0, 0],\n",
       "       [0, 0, 0, 0, 0, 0, 0, 0, 0, 0],\n",
       "       [0, 0, 0, 0, 0, 0, 0, 0, 0, 0],\n",
       "       [0, 0, 0, 0, 0, 0, 0, 0, 0, 0]])"
      ]
     },
     "execution_count": 9,
     "metadata": {},
     "output_type": "execute_result"
    }
   ],
   "source": [
    "np.zeros((4,10),dtype=\"int\")"
   ]
  },
  {
   "cell_type": "code",
   "execution_count": 10,
   "id": "492a858d",
   "metadata": {},
   "outputs": [
    {
     "data": {
      "text/plain": [
       "array([1., 1., 1.])"
      ]
     },
     "execution_count": 10,
     "metadata": {},
     "output_type": "execute_result"
    }
   ],
   "source": [
    "np.ones(3)"
   ]
  },
  {
   "cell_type": "code",
   "execution_count": 11,
   "id": "2c701fbe",
   "metadata": {},
   "outputs": [
    {
     "data": {
      "text/plain": [
       "array([[1, 1, 1, 1],\n",
       "       [1, 1, 1, 1],\n",
       "       [1, 1, 1, 1],\n",
       "       [1, 1, 1, 1]])"
      ]
     },
     "execution_count": 11,
     "metadata": {},
     "output_type": "execute_result"
    }
   ],
   "source": [
    "np.ones((4,4),dtype=\"int\")"
   ]
  },
  {
   "cell_type": "markdown",
   "id": "751ccd27",
   "metadata": {},
   "source": [
    "### Create an array with equidistant values between two numbers\n",
    "\n",
    "Numpy function linspace helps in creating a array of equidistant numbers between two values.\n",
    "It  includes both the start and end ranges"
   ]
  },
  {
   "cell_type": "code",
   "execution_count": 12,
   "id": "10d3fd75",
   "metadata": {},
   "outputs": [
    {
     "data": {
      "text/plain": [
       "array([ 0.        ,  0.1010101 ,  0.2020202 ,  0.3030303 ,  0.4040404 ,\n",
       "        0.50505051,  0.60606061,  0.70707071,  0.80808081,  0.90909091,\n",
       "        1.01010101,  1.11111111,  1.21212121,  1.31313131,  1.41414141,\n",
       "        1.51515152,  1.61616162,  1.71717172,  1.81818182,  1.91919192,\n",
       "        2.02020202,  2.12121212,  2.22222222,  2.32323232,  2.42424242,\n",
       "        2.52525253,  2.62626263,  2.72727273,  2.82828283,  2.92929293,\n",
       "        3.03030303,  3.13131313,  3.23232323,  3.33333333,  3.43434343,\n",
       "        3.53535354,  3.63636364,  3.73737374,  3.83838384,  3.93939394,\n",
       "        4.04040404,  4.14141414,  4.24242424,  4.34343434,  4.44444444,\n",
       "        4.54545455,  4.64646465,  4.74747475,  4.84848485,  4.94949495,\n",
       "        5.05050505,  5.15151515,  5.25252525,  5.35353535,  5.45454545,\n",
       "        5.55555556,  5.65656566,  5.75757576,  5.85858586,  5.95959596,\n",
       "        6.06060606,  6.16161616,  6.26262626,  6.36363636,  6.46464646,\n",
       "        6.56565657,  6.66666667,  6.76767677,  6.86868687,  6.96969697,\n",
       "        7.07070707,  7.17171717,  7.27272727,  7.37373737,  7.47474747,\n",
       "        7.57575758,  7.67676768,  7.77777778,  7.87878788,  7.97979798,\n",
       "        8.08080808,  8.18181818,  8.28282828,  8.38383838,  8.48484848,\n",
       "        8.58585859,  8.68686869,  8.78787879,  8.88888889,  8.98989899,\n",
       "        9.09090909,  9.19191919,  9.29292929,  9.39393939,  9.49494949,\n",
       "        9.5959596 ,  9.6969697 ,  9.7979798 ,  9.8989899 , 10.        ])"
      ]
     },
     "execution_count": 12,
     "metadata": {},
     "output_type": "execute_result"
    }
   ],
   "source": [
    "np.linspace(0,10,100)"
   ]
  },
  {
   "cell_type": "markdown",
   "id": "9e7f2843",
   "metadata": {},
   "source": [
    "### Create an identity matrix"
   ]
  },
  {
   "cell_type": "code",
   "execution_count": 13,
   "id": "ee293a22",
   "metadata": {},
   "outputs": [
    {
     "data": {
      "text/plain": [
       "array([[1., 0., 0., 0.],\n",
       "       [0., 1., 0., 0.],\n",
       "       [0., 0., 1., 0.],\n",
       "       [0., 0., 0., 1.]])"
      ]
     },
     "execution_count": 13,
     "metadata": {},
     "output_type": "execute_result"
    }
   ],
   "source": [
    "np.eye(4)"
   ]
  },
  {
   "cell_type": "markdown",
   "id": "c762cfc3",
   "metadata": {},
   "source": [
    "### Create array with random variables"
   ]
  },
  {
   "cell_type": "markdown",
   "id": "a490602f",
   "metadata": {},
   "source": [
    "##### rand() \n",
    "Creates an array with random variables of an Uniform distribution between 0 and 1 "
   ]
  },
  {
   "cell_type": "code",
   "execution_count": 14,
   "id": "276f100e",
   "metadata": {},
   "outputs": [
    {
     "data": {
      "text/plain": [
       "array([0.42954939, 0.64387042, 0.57968108])"
      ]
     },
     "execution_count": 14,
     "metadata": {},
     "output_type": "execute_result"
    }
   ],
   "source": [
    "np.random.rand(3)"
   ]
  },
  {
   "cell_type": "code",
   "execution_count": 15,
   "id": "ba9cca1f",
   "metadata": {},
   "outputs": [
    {
     "data": {
      "text/plain": [
       "array([[0.35886495, 0.80812677, 0.22960663, 0.63836924],\n",
       "       [0.72976076, 0.17750824, 0.251886  , 0.65541028],\n",
       "       [0.81180988, 0.27745211, 0.59825096, 0.97648309]])"
      ]
     },
     "execution_count": 15,
     "metadata": {},
     "output_type": "execute_result"
    }
   ],
   "source": [
    "np.random.rand(3,4)"
   ]
  },
  {
   "cell_type": "markdown",
   "id": "bf5303db",
   "metadata": {},
   "source": [
    "##### randn()\n",
    "Creates an array with random variables of an Normal  distribution between 0 and 1 .\n",
    "\n",
    "Has Mean = 0 and var = 1 , mean =0 indicates negative values"
   ]
  },
  {
   "cell_type": "code",
   "execution_count": 16,
   "id": "7535a1d6",
   "metadata": {},
   "outputs": [
    {
     "data": {
      "text/plain": [
       "array([-0.12203585, -0.70000532, -0.62198696, -2.9494162 ,  0.53711652])"
      ]
     },
     "execution_count": 16,
     "metadata": {},
     "output_type": "execute_result"
    }
   ],
   "source": [
    "arr = np.random.randn(5)\n",
    "arr"
   ]
  },
  {
   "cell_type": "code",
   "execution_count": 17,
   "id": "17df2dff",
   "metadata": {},
   "outputs": [
    {
     "data": {
      "text/plain": [
       "array([[ 0.26144898,  0.64965964, -1.79451894, -1.15762039],\n",
       "       [ 0.09530447, -0.05385672, -0.61991437, -0.02648803],\n",
       "       [-0.07962904,  0.69111694, -0.79150083,  0.515647  ]])"
      ]
     },
     "execution_count": 17,
     "metadata": {},
     "output_type": "execute_result"
    }
   ],
   "source": [
    "np.random.randn(3,4)"
   ]
  },
  {
   "cell_type": "markdown",
   "id": "3ea0fae3",
   "metadata": {},
   "source": [
    "#### randint - generate a random init excluding the value given"
   ]
  },
  {
   "cell_type": "code",
   "execution_count": 18,
   "id": "7d5da2cc",
   "metadata": {},
   "outputs": [
    {
     "name": "stdout",
     "output_type": "stream",
     "text": [
      "2\n",
      "4\n",
      "3\n",
      "3\n",
      "4\n",
      "0\n",
      "2\n",
      "3\n",
      "0\n",
      "3\n",
      "4\n",
      "4\n",
      "0\n",
      "3\n",
      "1\n",
      "2\n",
      "2\n",
      "1\n",
      "0\n",
      "0\n",
      "1\n",
      "2\n",
      "4\n",
      "0\n",
      "0\n",
      "0\n",
      "1\n",
      "2\n",
      "1\n",
      "1\n",
      "3\n",
      "3\n",
      "4\n",
      "3\n",
      "1\n",
      "2\n",
      "4\n",
      "2\n",
      "1\n",
      "4\n",
      "4\n",
      "1\n",
      "0\n",
      "4\n",
      "1\n",
      "1\n",
      "0\n",
      "4\n",
      "4\n",
      "1\n",
      "1\n",
      "2\n",
      "4\n",
      "2\n",
      "1\n",
      "2\n",
      "4\n",
      "4\n",
      "2\n",
      "0\n",
      "2\n",
      "4\n",
      "4\n",
      "3\n",
      "3\n",
      "4\n",
      "4\n",
      "2\n",
      "1\n",
      "0\n",
      "3\n",
      "0\n",
      "4\n",
      "0\n",
      "1\n",
      "4\n",
      "3\n",
      "0\n",
      "1\n",
      "1\n",
      "0\n",
      "1\n",
      "1\n",
      "3\n",
      "2\n",
      "0\n",
      "3\n",
      "4\n",
      "3\n",
      "4\n",
      "3\n",
      "4\n",
      "4\n",
      "0\n",
      "3\n",
      "3\n",
      "1\n",
      "2\n",
      "1\n"
     ]
    }
   ],
   "source": [
    "for i in range (1,100):\n",
    "    print(np.random.randint(5))"
   ]
  },
  {
   "cell_type": "code",
   "execution_count": 19,
   "id": "93661148",
   "metadata": {},
   "outputs": [
    {
     "data": {
      "text/plain": [
       "81"
      ]
     },
     "execution_count": 19,
     "metadata": {},
     "output_type": "execute_result"
    }
   ],
   "source": [
    "np.random.randint(1,100) # Provide a random number within the given range excluding the high value"
   ]
  },
  {
   "cell_type": "code",
   "execution_count": 20,
   "id": "4cc42f3c",
   "metadata": {},
   "outputs": [
    {
     "data": {
      "text/plain": [
       "array([11, 10, 15, 17,  2])"
      ]
     },
     "execution_count": 20,
     "metadata": {},
     "output_type": "execute_result"
    }
   ],
   "source": [
    "np.random.randint(1,20,5) # provide the frequency of numbers given excluding the high value"
   ]
  },
  {
   "cell_type": "markdown",
   "id": "741d21ae",
   "metadata": {},
   "source": [
    "##### Sometimes we need to provide the same random numbers which we did for training for that we use a functionality called seed which has a cardinal value as input if you provide the same input value in any system it provides the same set of random number generated across different machines."
   ]
  },
  {
   "cell_type": "code",
   "execution_count": 21,
   "id": "02c6eced",
   "metadata": {},
   "outputs": [
    {
     "data": {
      "text/plain": [
       "array([[35,  4,  1, ..., 12, 32, 13],\n",
       "       [22, 43, 13, ..., 28, 29, 34],\n",
       "       [ 2,  3, 12, ..., 40, 12, 43],\n",
       "       ...,\n",
       "       [ 4, 14, 20, ..., 35, 38, 33],\n",
       "       [34, 44,  7, ..., 34, 17, 27],\n",
       "       [45,  2, 36, ..., 10,  3, 16]])"
      ]
     },
     "execution_count": 21,
     "metadata": {},
     "output_type": "execute_result"
    }
   ],
   "source": [
    "np.random.seed(24)\n",
    "np.random.randint(1,50,(100,100))"
   ]
  },
  {
   "cell_type": "code",
   "execution_count": 22,
   "id": "65be4d79",
   "metadata": {},
   "outputs": [
    {
     "data": {
      "text/plain": [
       "array([3, 4, 1, 8])"
      ]
     },
     "execution_count": 22,
     "metadata": {},
     "output_type": "execute_result"
    }
   ],
   "source": [
    "np.random.seed(24)\n",
    "np.random.randint(1,10,4)"
   ]
  },
  {
   "cell_type": "code",
   "execution_count": 23,
   "id": "35fabac8",
   "metadata": {},
   "outputs": [
    {
     "data": {
      "text/plain": [
       "array([2, 2, 2, 5])"
      ]
     },
     "execution_count": 23,
     "metadata": {},
     "output_type": "execute_result"
    }
   ],
   "source": [
    "np.random.randint(1,10,4)"
   ]
  },
  {
   "cell_type": "code",
   "execution_count": 24,
   "id": "36575470",
   "metadata": {},
   "outputs": [],
   "source": [
    "arr = np.random.randint(1,50,5)"
   ]
  },
  {
   "cell_type": "code",
   "execution_count": 25,
   "id": "3ec78381",
   "metadata": {},
   "outputs": [
    {
     "data": {
      "text/plain": [
       "array([16,  5, 48, 36, 19])"
      ]
     },
     "execution_count": 25,
     "metadata": {},
     "output_type": "execute_result"
    }
   ],
   "source": [
    "arr"
   ]
  },
  {
   "cell_type": "code",
   "execution_count": 26,
   "id": "3173bc7c",
   "metadata": {},
   "outputs": [
    {
     "data": {
      "text/plain": [
       "(5,)"
      ]
     },
     "execution_count": 26,
     "metadata": {},
     "output_type": "execute_result"
    }
   ],
   "source": [
    "arr.shape"
   ]
  },
  {
   "cell_type": "code",
   "execution_count": 27,
   "id": "f74ad4a5",
   "metadata": {},
   "outputs": [
    {
     "data": {
      "text/plain": [
       "array([[16],\n",
       "       [ 5],\n",
       "       [48],\n",
       "       [36],\n",
       "       [19]])"
      ]
     },
     "execution_count": 27,
     "metadata": {},
     "output_type": "execute_result"
    }
   ],
   "source": [
    "arr.reshape(5,1)"
   ]
  },
  {
   "cell_type": "markdown",
   "id": "e5cf2850",
   "metadata": {},
   "source": [
    "### Min,Max arguments\n",
    "min - minimum in an array\n",
    "max - maximum of an array\n",
    "argmax - index of the max value of the array\n",
    "argmin - index of the min value of the arry"
   ]
  },
  {
   "cell_type": "code",
   "execution_count": 28,
   "id": "2f68cdc2",
   "metadata": {},
   "outputs": [
    {
     "data": {
      "text/plain": [
       "(48, 2)"
      ]
     },
     "execution_count": 28,
     "metadata": {},
     "output_type": "execute_result"
    }
   ],
   "source": [
    "arr.max(),arr.argmax()"
   ]
  },
  {
   "cell_type": "code",
   "execution_count": 29,
   "id": "362c3e17",
   "metadata": {},
   "outputs": [
    {
     "data": {
      "text/plain": [
       "(5, 1)"
      ]
     },
     "execution_count": 29,
     "metadata": {},
     "output_type": "execute_result"
    }
   ],
   "source": [
    "arr.min(),arr.argmin()"
   ]
  },
  {
   "cell_type": "code",
   "execution_count": 30,
   "id": "e1cd030b",
   "metadata": {},
   "outputs": [
    {
     "data": {
      "text/plain": [
       "dtype('int32')"
      ]
     },
     "execution_count": 30,
     "metadata": {},
     "output_type": "execute_result"
    }
   ],
   "source": [
    "arr.dtype #provide the data type of the array\n"
   ]
  },
  {
   "cell_type": "markdown",
   "id": "341f910e",
   "metadata": {},
   "source": [
    "## Indexing and Slicing"
   ]
  },
  {
   "cell_type": "code",
   "execution_count": 46,
   "id": "7f8b943f",
   "metadata": {},
   "outputs": [],
   "source": [
    "arr_ind = np.arange(1,11)"
   ]
  },
  {
   "cell_type": "code",
   "execution_count": 47,
   "id": "5a277319",
   "metadata": {},
   "outputs": [
    {
     "data": {
      "text/plain": [
       "array([ 1,  2,  3,  4,  5,  6,  7,  8,  9, 10])"
      ]
     },
     "execution_count": 47,
     "metadata": {},
     "output_type": "execute_result"
    }
   ],
   "source": [
    "arr_ind"
   ]
  },
  {
   "cell_type": "code",
   "execution_count": 33,
   "id": "ece49c4e",
   "metadata": {},
   "outputs": [
    {
     "data": {
      "text/plain": [
       "6"
      ]
     },
     "execution_count": 33,
     "metadata": {},
     "output_type": "execute_result"
    }
   ],
   "source": [
    "arr_ind[5] # prints the value at index 5, index starting from 0"
   ]
  },
  {
   "cell_type": "code",
   "execution_count": 34,
   "id": "6c57bfa4",
   "metadata": {},
   "outputs": [
    {
     "data": {
      "text/plain": [
       "array([1, 2, 3, 4])"
      ]
     },
     "execution_count": 34,
     "metadata": {},
     "output_type": "execute_result"
    }
   ],
   "source": [
    "arr_ind[:4] # prints till the index value of 3 i.e 4 values"
   ]
  },
  {
   "cell_type": "code",
   "execution_count": 35,
   "id": "a0d1276f",
   "metadata": {},
   "outputs": [
    {
     "data": {
      "text/plain": [
       "array([1, 2, 3, 4])"
      ]
     },
     "execution_count": 35,
     "metadata": {},
     "output_type": "execute_result"
    }
   ],
   "source": [
    "arr_ind[0:4] # similar to previous one"
   ]
  },
  {
   "cell_type": "code",
   "execution_count": 36,
   "id": "504c4684",
   "metadata": {},
   "outputs": [
    {
     "data": {
      "text/plain": [
       "array([ 6,  7,  8,  9, 10])"
      ]
     },
     "execution_count": 36,
     "metadata": {},
     "output_type": "execute_result"
    }
   ],
   "source": [
    "arr_ind[5:] # prints array after the 5th value i.e index 4"
   ]
  },
  {
   "cell_type": "code",
   "execution_count": 37,
   "id": "a5a1afcb",
   "metadata": {},
   "outputs": [
    {
     "data": {
      "text/plain": [
       "array([ 5,  5,  5,  5,  5,  6,  7,  8,  9, 10])"
      ]
     },
     "execution_count": 37,
     "metadata": {},
     "output_type": "execute_result"
    }
   ],
   "source": [
    "arr_ind[:4] = 5 \n",
    "\n",
    "arr_ind   # updates the value of the array till index 4 with"
   ]
  },
  {
   "cell_type": "markdown",
   "id": "f764e34b",
   "metadata": {},
   "source": [
    "##### Slicing\n",
    "\n",
    "Slicing creates a subset array of the pointers and not a separate array. Any changes to the subset changes are made to the original array."
   ]
  },
  {
   "cell_type": "code",
   "execution_count": 50,
   "id": "11b26954",
   "metadata": {},
   "outputs": [],
   "source": [
    "slice_arr = arr_ind[:4]"
   ]
  },
  {
   "cell_type": "code",
   "execution_count": 51,
   "id": "d2d13f3f",
   "metadata": {},
   "outputs": [
    {
     "data": {
      "text/plain": [
       "array([1, 2, 3, 4])"
      ]
     },
     "execution_count": 51,
     "metadata": {},
     "output_type": "execute_result"
    }
   ],
   "source": [
    "slice_arr"
   ]
  },
  {
   "cell_type": "code",
   "execution_count": 52,
   "id": "05d394fb",
   "metadata": {},
   "outputs": [],
   "source": [
    "slice_arr[:2] = 100"
   ]
  },
  {
   "cell_type": "code",
   "execution_count": 53,
   "id": "c46c641c",
   "metadata": {},
   "outputs": [
    {
     "data": {
      "text/plain": [
       "(array([100, 100,   3,   4]),\n",
       " array([100, 100,   3,   4,   5,   6,   7,   8,   9,  10]))"
      ]
     },
     "execution_count": 53,
     "metadata": {},
     "output_type": "execute_result"
    }
   ],
   "source": [
    "slice_arr,arr_ind"
   ]
  },
  {
   "cell_type": "markdown",
   "id": "fb01578f",
   "metadata": {},
   "source": [
    "To avoid the above issue we need to make a copy of the existing array and then make the changes."
   ]
  },
  {
   "cell_type": "code",
   "execution_count": 48,
   "id": "21cc9417",
   "metadata": {},
   "outputs": [],
   "source": [
    "arr_new = arr_ind.copy()"
   ]
  },
  {
   "cell_type": "code",
   "execution_count": 49,
   "id": "23b9904b",
   "metadata": {},
   "outputs": [
    {
     "data": {
      "text/plain": [
       "array([ 1,  2,  3,  4,  5,  6,  7,  8,  9, 10])"
      ]
     },
     "execution_count": 49,
     "metadata": {},
     "output_type": "execute_result"
    }
   ],
   "source": [
    "arr_new"
   ]
  },
  {
   "cell_type": "markdown",
   "id": "d3d2aaeb",
   "metadata": {},
   "source": [
    "### indexing and slicing in 2d Array"
   ]
  },
  {
   "cell_type": "code",
   "execution_count": 56,
   "id": "85f234d1",
   "metadata": {},
   "outputs": [],
   "source": [
    "arr_2d = np.random.randint(5,50,(5,5))"
   ]
  },
  {
   "cell_type": "code",
   "execution_count": 57,
   "id": "6c1d40de",
   "metadata": {},
   "outputs": [
    {
     "data": {
      "text/plain": [
       "array([[16, 40, 20, 44, 14],\n",
       "       [23, 12, 30, 40, 36],\n",
       "       [33,  5, 17, 36, 38],\n",
       "       [ 6, 11, 38, 22, 11],\n",
       "       [ 6, 30, 15, 40,  5]])"
      ]
     },
     "execution_count": 57,
     "metadata": {},
     "output_type": "execute_result"
    }
   ],
   "source": [
    "arr_2d"
   ]
  },
  {
   "cell_type": "code",
   "execution_count": 61,
   "id": "89e41a2c",
   "metadata": {},
   "outputs": [
    {
     "data": {
      "text/plain": [
       "(5, 5)"
      ]
     },
     "execution_count": 61,
     "metadata": {},
     "output_type": "execute_result"
    }
   ],
   "source": [
    "arr_2d.shape"
   ]
  },
  {
   "cell_type": "code",
   "execution_count": 58,
   "id": "68148cf4",
   "metadata": {},
   "outputs": [
    {
     "data": {
      "text/plain": [
       "array([ 6, 11, 38, 22, 11])"
      ]
     },
     "execution_count": 58,
     "metadata": {},
     "output_type": "execute_result"
    }
   ],
   "source": [
    "arr_2d[3] # 2d array one index value returns the row"
   ]
  },
  {
   "cell_type": "code",
   "execution_count": 60,
   "id": "71edaf03",
   "metadata": {},
   "outputs": [
    {
     "data": {
      "text/plain": [
       "11"
      ]
     },
     "execution_count": 60,
     "metadata": {},
     "output_type": "execute_result"
    }
   ],
   "source": [
    "arr_2d[3][4] # two index return the value at 3rd row and 4th column. indexes starts from 0"
   ]
  },
  {
   "cell_type": "markdown",
   "id": "734f65b6",
   "metadata": {},
   "source": [
    "indexing can also be done using : as below"
   ]
  },
  {
   "cell_type": "code",
   "execution_count": 62,
   "id": "e610ec2e",
   "metadata": {},
   "outputs": [
    {
     "data": {
      "text/plain": [
       "array([[16, 40, 20, 44, 14],\n",
       "       [23, 12, 30, 40, 36]])"
      ]
     },
     "execution_count": 62,
     "metadata": {},
     "output_type": "execute_result"
    }
   ],
   "source": [
    "arr_2d[:2] # retrieves till first two rows (index 2 - 0,1)"
   ]
  },
  {
   "cell_type": "code",
   "execution_count": 63,
   "id": "f7f4965d",
   "metadata": {},
   "outputs": [
    {
     "data": {
      "text/plain": [
       "array([[17, 36, 38]])"
      ]
     },
     "execution_count": 63,
     "metadata": {},
     "output_type": "execute_result"
    }
   ],
   "source": [
    "arr_2d[2:3,2:] # retrieves the row between index 2 and 3 (row 3)  and columns from index 2 till end\n",
    "# Note when 2 values are given (2:3) the lower value is included but higher value is excluded"
   ]
  },
  {
   "cell_type": "markdown",
   "id": "9f64fd0a",
   "metadata": {},
   "source": [
    "## Conditional Selection\n",
    "\n",
    "###### used when we need to get a subset of the data to perform any operations and retrieve any information "
   ]
  },
  {
   "cell_type": "code",
   "execution_count": 65,
   "id": "7ca2bfa7",
   "metadata": {},
   "outputs": [
    {
     "data": {
      "text/plain": [
       "array([[False,  True, False,  True, False],\n",
       "       [False, False, False,  True,  True],\n",
       "       [False, False, False,  True,  True],\n",
       "       [False, False,  True, False, False],\n",
       "       [False, False, False,  True, False]])"
      ]
     },
     "execution_count": 65,
     "metadata": {},
     "output_type": "execute_result"
    }
   ],
   "source": [
    "arr_2d > 35"
   ]
  },
  {
   "cell_type": "code",
   "execution_count": 70,
   "id": "5e5d04f7",
   "metadata": {},
   "outputs": [],
   "source": [
    "arr_new_slice = arr_2d[arr_2d > 35]"
   ]
  },
  {
   "cell_type": "code",
   "execution_count": 67,
   "id": "95ca5beb",
   "metadata": {},
   "outputs": [],
   "source": [
    "bool_arr = arr_2d > 35"
   ]
  },
  {
   "cell_type": "code",
   "execution_count": 68,
   "id": "116a5fea",
   "metadata": {},
   "outputs": [
    {
     "data": {
      "text/plain": [
       "array([[False,  True, False,  True, False],\n",
       "       [False, False, False,  True,  True],\n",
       "       [False, False, False,  True,  True],\n",
       "       [False, False,  True, False, False],\n",
       "       [False, False, False,  True, False]])"
      ]
     },
     "execution_count": 68,
     "metadata": {},
     "output_type": "execute_result"
    }
   ],
   "source": [
    "bool_arr"
   ]
  },
  {
   "cell_type": "code",
   "execution_count": 69,
   "id": "e05ee0cd",
   "metadata": {},
   "outputs": [
    {
     "data": {
      "text/plain": [
       "array([40, 44, 40, 36, 36, 38, 38, 40])"
      ]
     },
     "execution_count": 69,
     "metadata": {},
     "output_type": "execute_result"
    }
   ],
   "source": [
    "arr_2d [bool_arr]"
   ]
  },
  {
   "cell_type": "code",
   "execution_count": 72,
   "id": "fe25d031",
   "metadata": {},
   "outputs": [],
   "source": [
    "arr_new_slice[:] = 30"
   ]
  },
  {
   "cell_type": "code",
   "execution_count": 73,
   "id": "51d58959",
   "metadata": {},
   "outputs": [
    {
     "data": {
      "text/plain": [
       "array([30, 30, 30, 30, 30, 30, 30, 30])"
      ]
     },
     "execution_count": 73,
     "metadata": {},
     "output_type": "execute_result"
    }
   ],
   "source": [
    "arr_new_slice"
   ]
  },
  {
   "cell_type": "code",
   "execution_count": 74,
   "id": "ed9fe8c6",
   "metadata": {},
   "outputs": [
    {
     "data": {
      "text/plain": [
       "array([[16, 40, 20, 44, 14],\n",
       "       [23, 12, 30, 40, 36],\n",
       "       [33,  5, 17, 36, 38],\n",
       "       [ 6, 11, 38, 22, 11],\n",
       "       [ 6, 30, 15, 40,  5]])"
      ]
     },
     "execution_count": 74,
     "metadata": {},
     "output_type": "execute_result"
    }
   ],
   "source": [
    "arr_2d"
   ]
  },
  {
   "cell_type": "markdown",
   "id": "43f741af",
   "metadata": {},
   "source": [
    "Above example shows slicing in 2d doesnt point to the pointers but creates a subset"
   ]
  },
  {
   "cell_type": "markdown",
   "id": "ad53429c",
   "metadata": {},
   "source": [
    "### *Numpy Operations*"
   ]
  },
  {
   "cell_type": "code",
   "execution_count": 75,
   "id": "97f2c780",
   "metadata": {},
   "outputs": [],
   "source": [
    "arr_ops = np.arange(0,10)"
   ]
  },
  {
   "cell_type": "code",
   "execution_count": 76,
   "id": "b6ddd691",
   "metadata": {},
   "outputs": [
    {
     "data": {
      "text/plain": [
       "array([0, 1, 2, 3, 4, 5, 6, 7, 8, 9])"
      ]
     },
     "execution_count": 76,
     "metadata": {},
     "output_type": "execute_result"
    }
   ],
   "source": [
    "arr_ops"
   ]
  },
  {
   "cell_type": "code",
   "execution_count": 77,
   "id": "595b0273",
   "metadata": {},
   "outputs": [
    {
     "data": {
      "text/plain": [
       "4.5"
      ]
     },
     "execution_count": 77,
     "metadata": {},
     "output_type": "execute_result"
    }
   ],
   "source": [
    "arr_ops.mean()"
   ]
  },
  {
   "cell_type": "code",
   "execution_count": 78,
   "id": "395dc054",
   "metadata": {},
   "outputs": [
    {
     "data": {
      "text/plain": [
       "array([ 5,  6,  7,  8,  9, 10, 11, 12, 13, 14])"
      ]
     },
     "execution_count": 78,
     "metadata": {},
     "output_type": "execute_result"
    }
   ],
   "source": [
    "arr_ops + 5"
   ]
  },
  {
   "cell_type": "code",
   "execution_count": 79,
   "id": "be64c5d5",
   "metadata": {},
   "outputs": [
    {
     "name": "stderr",
     "output_type": "stream",
     "text": [
      "C:\\Users\\karti\\AppData\\Local\\Temp\\ipykernel_8644\\699198590.py:1: RuntimeWarning: divide by zero encountered in true_divide\n",
      "  arr_ops/0\n",
      "C:\\Users\\karti\\AppData\\Local\\Temp\\ipykernel_8644\\699198590.py:1: RuntimeWarning: invalid value encountered in true_divide\n",
      "  arr_ops/0\n"
     ]
    },
    {
     "data": {
      "text/plain": [
       "array([nan, inf, inf, inf, inf, inf, inf, inf, inf, inf])"
      ]
     },
     "execution_count": 79,
     "metadata": {},
     "output_type": "execute_result"
    }
   ],
   "source": [
    "arr_ops/0 # divisible by zero is shown as warning and also denoted by inf --> infinity"
   ]
  },
  {
   "cell_type": "code",
   "execution_count": 80,
   "id": "3c191a2c",
   "metadata": {},
   "outputs": [
    {
     "name": "stderr",
     "output_type": "stream",
     "text": [
      "C:\\Users\\karti\\AppData\\Local\\Temp\\ipykernel_8644\\3131116231.py:1: RuntimeWarning: divide by zero encountered in true_divide\n",
      "  1/arr_ops\n"
     ]
    },
    {
     "data": {
      "text/plain": [
       "array([       inf, 1.        , 0.5       , 0.33333333, 0.25      ,\n",
       "       0.2       , 0.16666667, 0.14285714, 0.125     , 0.11111111])"
      ]
     },
     "execution_count": 80,
     "metadata": {},
     "output_type": "execute_result"
    }
   ],
   "source": [
    "1/arr_ops"
   ]
  },
  {
   "cell_type": "code",
   "execution_count": 81,
   "id": "26e72f8c",
   "metadata": {},
   "outputs": [],
   "source": [
    "arr_ops_2d = np.arange(0,20).reshape(4,5)"
   ]
  },
  {
   "cell_type": "code",
   "execution_count": 82,
   "id": "e0e45a5b",
   "metadata": {},
   "outputs": [
    {
     "data": {
      "text/plain": [
       "array([[ 0,  1,  2,  3,  4],\n",
       "       [ 5,  6,  7,  8,  9],\n",
       "       [10, 11, 12, 13, 14],\n",
       "       [15, 16, 17, 18, 19]])"
      ]
     },
     "execution_count": 82,
     "metadata": {},
     "output_type": "execute_result"
    }
   ],
   "source": [
    "arr_ops_2d"
   ]
  },
  {
   "cell_type": "code",
   "execution_count": 83,
   "id": "66d85d7d",
   "metadata": {},
   "outputs": [
    {
     "data": {
      "text/plain": [
       "array([[ 0,  2,  4,  6,  8],\n",
       "       [10, 12, 14, 16, 18],\n",
       "       [20, 22, 24, 26, 28],\n",
       "       [30, 32, 34, 36, 38]])"
      ]
     },
     "execution_count": 83,
     "metadata": {},
     "output_type": "execute_result"
    }
   ],
   "source": [
    "arr_ops_2d * 2"
   ]
  },
  {
   "cell_type": "code",
   "execution_count": 84,
   "id": "686c37eb",
   "metadata": {},
   "outputs": [
    {
     "data": {
      "text/plain": [
       "array([[  0,   1,   4,   9,  16],\n",
       "       [ 25,  36,  49,  64,  81],\n",
       "       [100, 121, 144, 169, 196],\n",
       "       [225, 256, 289, 324, 361]])"
      ]
     },
     "execution_count": 84,
     "metadata": {},
     "output_type": "execute_result"
    }
   ],
   "source": [
    "arr_ops_2d * arr_ops_2d"
   ]
  },
  {
   "cell_type": "code",
   "execution_count": 89,
   "id": "c687e5d6",
   "metadata": {},
   "outputs": [
    {
     "data": {
      "text/plain": [
       "array([[  0,   1,   4,   9,  16],\n",
       "       [ 25,  36,  49,  64,  81],\n",
       "       [100, 121, 144, 169, 196],\n",
       "       [225, 256, 289, 324, 361]], dtype=int32)"
      ]
     },
     "execution_count": 89,
     "metadata": {},
     "output_type": "execute_result"
    }
   ],
   "source": [
    "arr_ops_2d ** 2"
   ]
  },
  {
   "cell_type": "code",
   "execution_count": 90,
   "id": "a6b50795",
   "metadata": {},
   "outputs": [
    {
     "data": {
      "text/plain": [
       "190"
      ]
     },
     "execution_count": 90,
     "metadata": {},
     "output_type": "execute_result"
    }
   ],
   "source": [
    "arr_ops_2d.sum()"
   ]
  },
  {
   "cell_type": "code",
   "execution_count": 91,
   "id": "8067e9ed",
   "metadata": {},
   "outputs": [
    {
     "data": {
      "text/plain": [
       "array([30, 34, 38, 42, 46])"
      ]
     },
     "execution_count": 91,
     "metadata": {},
     "output_type": "execute_result"
    }
   ],
   "source": [
    "arr_ops_2d.sum(axis = 0) # sum of values in every row in each column \n",
    "# 0+5+10+15,1+6+11+16,"
   ]
  },
  {
   "cell_type": "code",
   "execution_count": 93,
   "id": "4983a803",
   "metadata": {},
   "outputs": [
    {
     "data": {
      "text/plain": [
       "array([10, 35, 60, 85])"
      ]
     },
     "execution_count": 93,
     "metadata": {},
     "output_type": "execute_result"
    }
   ],
   "source": [
    "arr_ops_2d.sum(axis = 1) # sum of values of every column in each row\n",
    "#0+1+2+3+4,5+6+7+8+9,....."
   ]
  },
  {
   "cell_type": "code",
   "execution_count": 3,
   "id": "289bb897",
   "metadata": {},
   "outputs": [
    {
     "name": "stdout",
     "output_type": "stream",
     "text": [
      "[0.6284809  0.24378799 0.24946135 0.24583952 0.33021095]\n",
      "[0.15516421 0.05073825 0.25868017 0.61160615 0.77511947]\n"
     ]
    }
   ],
   "source": [
    "a = np.random.rand(5)\n",
    "b = np.random.rand(5)\n",
    "\n",
    "print(a)\n",
    "print(b)"
   ]
  },
  {
   "cell_type": "code",
   "execution_count": 4,
   "id": "820d38b6",
   "metadata": {},
   "outputs": [],
   "source": [
    "c = a/b**2"
   ]
  },
  {
   "cell_type": "code",
   "execution_count": 5,
   "id": "897c0d19",
   "metadata": {},
   "outputs": [
    {
     "name": "stdout",
     "output_type": "stream",
     "text": [
      "[26.10411651 94.69812103  3.72800932  0.65721582  0.54960944]\n"
     ]
    }
   ],
   "source": [
    "print(c)"
   ]
  },
  {
   "cell_type": "code",
   "execution_count": 6,
   "id": "2c51990b",
   "metadata": {},
   "outputs": [
    {
     "ename": "ValueError",
     "evalue": "operands could not be broadcast together with shapes (5,) (10,) ",
     "output_type": "error",
     "traceback": [
      "\u001B[1;31m---------------------------------------------------------------------------\u001B[0m",
      "\u001B[1;31mValueError\u001B[0m                                Traceback (most recent call last)",
      "\u001B[1;32m<ipython-input-6-ef6ffcb1038e>\u001B[0m in \u001B[0;36m<module>\u001B[1;34m\u001B[0m\n\u001B[0;32m      1\u001B[0m \u001B[0ma\u001B[0m \u001B[1;33m=\u001B[0m \u001B[0mnp\u001B[0m\u001B[1;33m.\u001B[0m\u001B[0mrandom\u001B[0m\u001B[1;33m.\u001B[0m\u001B[0mrand\u001B[0m\u001B[1;33m(\u001B[0m\u001B[1;36m5\u001B[0m\u001B[1;33m)\u001B[0m\u001B[1;33m\u001B[0m\u001B[1;33m\u001B[0m\u001B[0m\n\u001B[0;32m      2\u001B[0m \u001B[0mb\u001B[0m \u001B[1;33m=\u001B[0m \u001B[0mnp\u001B[0m\u001B[1;33m.\u001B[0m\u001B[0mrandom\u001B[0m\u001B[1;33m.\u001B[0m\u001B[0mrand\u001B[0m\u001B[1;33m(\u001B[0m\u001B[1;36m10\u001B[0m\u001B[1;33m)\u001B[0m\u001B[1;33m\u001B[0m\u001B[1;33m\u001B[0m\u001B[0m\n\u001B[1;32m----> 3\u001B[1;33m \u001B[0md\u001B[0m \u001B[1;33m=\u001B[0m \u001B[0ma\u001B[0m\u001B[1;33m+\u001B[0m\u001B[0mb\u001B[0m\u001B[1;33m\u001B[0m\u001B[1;33m\u001B[0m\u001B[0m\n\u001B[0m\u001B[0;32m      4\u001B[0m \u001B[0mprint\u001B[0m\u001B[1;33m(\u001B[0m\u001B[0ma\u001B[0m\u001B[1;33m)\u001B[0m\u001B[1;33m\u001B[0m\u001B[1;33m\u001B[0m\u001B[0m\n\u001B[0;32m      5\u001B[0m \u001B[0mprint\u001B[0m\u001B[1;33m(\u001B[0m\u001B[0mb\u001B[0m\u001B[1;33m)\u001B[0m\u001B[1;33m\u001B[0m\u001B[1;33m\u001B[0m\u001B[0m\n",
      "\u001B[1;31mValueError\u001B[0m: operands could not be broadcast together with shapes (5,) (10,) "
     ]
    }
   ],
   "source": [
    "a = np.random.rand(5)\n",
    "b = np.random.rand(10)\n",
    "d = a+b\n",
    "print(a)\n",
    "print(b)\n",
    "print(c)"
   ]
  },
  {
   "cell_type": "code",
   "execution_count": 8,
   "id": "dd995b31",
   "metadata": {},
   "outputs": [
    {
     "data": {
      "text/plain": [
       "array([1.73714244, 1.55308238, 1.83463852, 1.40292251, 1.75685454,\n",
       "       2.44021765, 1.815923  , 1.79389339, 2.2096758 , 1.52565379])"
      ]
     },
     "execution_count": 8,
     "metadata": {},
     "output_type": "execute_result"
    }
   ],
   "source": [
    "np.random.normal(1.75,0.20,10)"
   ]
  },
  {
   "cell_type": "code",
   "execution_count": null,
   "id": "6f29f2ee",
   "metadata": {},
   "outputs": [],
   "source": [
    "np.random.normal"
   ]
  }
 ],
 "metadata": {
  "kernelspec": {
   "display_name": "Python 3",
   "language": "python",
   "name": "python3"
  },
  "language_info": {
   "codemirror_mode": {
    "name": "ipython",
    "version": 3
   },
   "file_extension": ".py",
   "mimetype": "text/x-python",
   "name": "python",
   "nbconvert_exporter": "python",
   "pygments_lexer": "ipython3",
   "version": "3.8.8"
  }
 },
 "nbformat": 4,
 "nbformat_minor": 5
}